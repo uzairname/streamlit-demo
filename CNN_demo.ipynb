{
  "nbformat": 4,
  "nbformat_minor": 0,
  "metadata": {
    "colab": {
      "provenance": [],
      "authorship_tag": "ABX9TyMON9cKkZUTLsCZvKG6AZr/",
      "include_colab_link": true
    },
    "kernelspec": {
      "name": "python3",
      "display_name": "Python 3"
    },
    "language_info": {
      "name": "python"
    }
  },
  "cells": [
    {
      "cell_type": "markdown",
      "metadata": {
        "id": "view-in-github",
        "colab_type": "text"
      },
      "source": [
        "<a href=\"https://colab.research.google.com/github/uzairname/Documents/blob/main/CNN_demo.ipynb\" target=\"_parent\"><img src=\"https://colab.research.google.com/assets/colab-badge.svg\" alt=\"Open In Colab\"/></a>"
      ]
    },
    {
      "cell_type": "code",
      "source": [
        "from scipy.signal import convolve"
      ],
      "metadata": {
        "id": "o1CRwLa4eQuh"
      },
      "execution_count": null,
      "outputs": []
    },
    {
      "cell_type": "markdown",
      "source": [
        "## convolving and cross correlation\n",
        "\n",
        "CNNs are supervised learning. Show the differences from an MLP, and motivation for images.\n",
        "\n",
        "### an explanation\n",
        "\n",
        "Start from a regular fully connected NN. Each input represents some feature.\n",
        "\n",
        "Nodes in the hidden layer is some nonlinear combination of all the neurons in the layer before. Ends up with a really complicated function mapping inputs to outputs.\n",
        "\n",
        "But For an image, there are some differences: \n",
        "1. There are too many inputs (n by n by 3 color channels) to compute a fully connected layer.\n",
        "2. shifting an object in an image a little completely changes the value of pixels, but we don't care about shifts or translations.\n",
        "\n",
        "Kernel operators and corr operation take advantage of this. (briefly explain convolve operator)\n"
      ],
      "metadata": {
        "id": "off7M4pZeRPx"
      }
    },
    {
      "cell_type": "markdown",
      "source": [
        "following along:\n",
        "\n",
        "reference completed notebook.."
      ],
      "metadata": {
        "id": "P-c4x8FlFG6q"
      }
    },
    {
      "cell_type": "code",
      "source": [],
      "metadata": {
        "id": "fzwmc3SRFGPR"
      },
      "execution_count": null,
      "outputs": []
    },
    {
      "cell_type": "code",
      "source": [],
      "metadata": {
        "id": "-L1X-Cf37t1_"
      },
      "execution_count": null,
      "outputs": []
    },
    {
      "cell_type": "code",
      "source": [],
      "metadata": {
        "id": "NczFXUlld-A_"
      },
      "execution_count": null,
      "outputs": []
    },
    {
      "cell_type": "code",
      "execution_count": null,
      "metadata": {
        "id": "sHhXpufzdcat"
      },
      "outputs": [],
      "source": [
        "\n",
        "\n",
        "\n",
        "\n",
        "\n",
        "\n",
        "def corr2d(X, K):\n",
        "\n",
        "    h, w = K.shape\n",
        "    Y = jnp.zeros((X.shape[0] - h + 1, X.shape[1] - w + 1))\n",
        "    for i in range(Y.shape[0]):\n",
        "        for j in range(Y.shape[1]):\n",
        "            Y = Y.at[i, j].set((X[i:i + h, j:j + w] * K).sum())\n",
        "\n",
        "\n",
        "    return Y\n",
        "\n",
        "\n",
        "\n",
        "\n"
      ]
    },
    {
      "cell_type": "code",
      "source": [
        "import pandas as pd\n",
        "import numpy as np\n",
        "import torch\n",
        "import torchvision\n",
        "\n"
      ],
      "metadata": {
        "id": "-Wc-SQguZvan"
      },
      "execution_count": null,
      "outputs": []
    },
    {
      "cell_type": "markdown",
      "source": [],
      "metadata": {
        "id": "_NN9GQVkcoEe"
      }
    },
    {
      "cell_type": "code",
      "source": [
        "import matplotlib.pyplot as plt\n",
        "\n",
        "plt.imshow(np.array(x_train[-1][0][0]))"
      ],
      "metadata": {
        "colab": {
          "base_uri": "https://localhost:8080/",
          "height": 282
        },
        "id": "N1evbRsfcYv-",
        "outputId": "544c345f-a111-410f-9940-592e170a5dc0"
      },
      "execution_count": null,
      "outputs": [
        {
          "output_type": "execute_result",
          "data": {
            "text/plain": [
              "<matplotlib.image.AxesImage at 0x7fa22d5eafa0>"
            ]
          },
          "metadata": {},
          "execution_count": 24
        },
        {
          "output_type": "display_data",
          "data": {
            "text/plain": [
              "<Figure size 432x288 with 1 Axes>"
            ],
            "image/png": "[encoded data removed]"
          },
          "metadata": {
            "needs_background": "light"
          }
        }
      ]
    },
    {
      "cell_type": "code",
      "source": [
        "from torchshape import tensorshape\n",
        "\n",
        "shape = tensorshape(nn.Conv2d(1, 6, 3), [4, 1, 28, 28])\n",
        "shape = tensorshape(nn.MaxPool2d(2, 2), shape)\n",
        "shape = tensorshape(nn.Conv2d(6, 10, 5), shape)\n",
        "shape = tensorshape(nn.MaxPool2d(2, 2), shape)\n",
        "\n",
        "print(shape)"
      ],
      "metadata": {
        "id": "WXXkGmmEdj2a"
      },
      "execution_count": null,
      "outputs": []
    },
    {
      "cell_type": "code",
      "source": [],
      "metadata": {
        "id": "nW3geVnAonDw"
      },
      "execution_count": null,
      "outputs": []
    },
    {
      "cell_type": "markdown",
      "source": [
        "# Data\n"
      ],
      "metadata": {
        "id": "4C4Okzz4oqKs"
      }
    },
    {
      "cell_type": "code",
      "source": [
        "import torch\n",
        "import numpy as np\n",
        "import torchvision\n",
        "from torchvision.datasets import KMNIST\n",
        "\n",
        "from torch.utils.data import random_split\n",
        "\n",
        "train = KMNIST(root=\"data\", train=True, download=True, transform=torchvision.transforms.ToTensor())\n",
        "test = KMNIST(root=\"data\", train=False, download=True, transform=torchvision.transforms.ToTensor())\n",
        "\n",
        "all = KMNIST(root=\"data\", download=True, transform=torchvision.transforms.ToTensor())\n",
        "\n",
        "batch_size = 64\n",
        "loader_train = torch.utils.data.DataLoader(train, batch_size=64)\n",
        "loader_test = torch.utils.data.DataLoader(test, batch_size=64)\n"
      ],
      "metadata": {
        "colab": {
          "base_uri": "https://localhost:8080/",
          "height": 235
        },
        "id": "vzw9wpwBorww",
        "outputId": "b5691f16-5d72-4979-95f6-ec52c4382d3c"
      },
      "execution_count": null,
      "outputs": [
        {
          "output_type": "error",
          "ename": "TypeError",
          "evalue": "ignored",
          "traceback": [
            "\u001b[0;31m---------------------------------------------------------------------------\u001b[0m",
            "\u001b[0;31mTypeError\u001b[0m                                 Traceback (most recent call last)",
            "\u001b[0;32m<ipython-input-62-861a9952e2b5>\u001b[0m in \u001b[0;36m<module>\u001b[0;34m\u001b[0m\n\u001b[1;32m      6\u001b[0m \u001b[0;32mfrom\u001b[0m \u001b[0mtorch\u001b[0m\u001b[0;34m.\u001b[0m\u001b[0mutils\u001b[0m\u001b[0;34m.\u001b[0m\u001b[0mdata\u001b[0m \u001b[0;32mimport\u001b[0m \u001b[0mrandom_split\u001b[0m\u001b[0;34m\u001b[0m\u001b[0;34m\u001b[0m\u001b[0m\n\u001b[1;32m      7\u001b[0m \u001b[0;34m\u001b[0m\u001b[0m\n\u001b[0;32m----> 8\u001b[0;31m \u001b[0mtrain\u001b[0m \u001b[0;34m=\u001b[0m \u001b[0mKMNIST\u001b[0m\u001b[0;34m(\u001b[0m\u001b[0mtrain\u001b[0m\u001b[0;34m=\u001b[0m\u001b[0;32mTrue\u001b[0m\u001b[0;34m,\u001b[0m \u001b[0mdownload\u001b[0m\u001b[0;34m=\u001b[0m\u001b[0;32mTrue\u001b[0m\u001b[0;34m,\u001b[0m \u001b[0mtransform\u001b[0m\u001b[0;34m=\u001b[0m\u001b[0mtorchvision\u001b[0m\u001b[0;34m.\u001b[0m\u001b[0mtransforms\u001b[0m\u001b[0;34m.\u001b[0m\u001b[0mToTensor\u001b[0m\u001b[0;34m(\u001b[0m\u001b[0;34m)\u001b[0m\u001b[0;34m)\u001b[0m\u001b[0;34m\u001b[0m\u001b[0;34m\u001b[0m\u001b[0m\n\u001b[0m\u001b[1;32m      9\u001b[0m \u001b[0mtest\u001b[0m \u001b[0;34m=\u001b[0m \u001b[0mKMNIST\u001b[0m\u001b[0;34m(\u001b[0m\u001b[0mtrain\u001b[0m\u001b[0;34m=\u001b[0m\u001b[0;32mFalse\u001b[0m\u001b[0;34m,\u001b[0m \u001b[0mdownload\u001b[0m\u001b[0;34m=\u001b[0m\u001b[0;32mTrue\u001b[0m\u001b[0;34m,\u001b[0m \u001b[0mtransform\u001b[0m\u001b[0;34m=\u001b[0m\u001b[0mtorchvision\u001b[0m\u001b[0;34m.\u001b[0m\u001b[0mtransforms\u001b[0m\u001b[0;34m.\u001b[0m\u001b[0mToTensor\u001b[0m\u001b[0;34m(\u001b[0m\u001b[0;34m)\u001b[0m\u001b[0;34m)\u001b[0m\u001b[0;34m\u001b[0m\u001b[0;34m\u001b[0m\u001b[0m\n\u001b[1;32m     10\u001b[0m \u001b[0;34m\u001b[0m\u001b[0m\n",
            "\u001b[0;31mTypeError\u001b[0m: __init__() missing 1 required positional argument: 'root'"
          ]
        }
      ]
    },
    {
      "cell_type": "markdown",
      "source": [
        "## PyTorch CNN"
      ],
      "metadata": {
        "id": "bUea6Pf-oswF"
      }
    },
    {
      "cell_type": "code",
      "source": [
        "from inspect import modulesbyfile\n",
        "import torch\n",
        "import torch.nn as nn\n",
        "import torch.nn.functional as F\n",
        "\n",
        "device = torch.device(\"cuda\" if torch.cuda.is_available() else \"cpu\")\n",
        "\n",
        "n_classes = 10\n",
        "\n",
        "class CNN(nn.Module):\n",
        "  def __init__(self):\n",
        "    super().__init__()\n",
        "    self.conv1 = nn.Conv2d(in_channels=1, out_channels=20, kernel_size=(5, 5)) # play around with number of channels in hidden layer. Why do we need so many channels?\n",
        "    self.relu1 = nn.ReLU()\n",
        "    self.pool1 = nn.MaxPool2d(kernel_size=(2, 2), stride=(2, 2))\n",
        "  \n",
        "    self.conv2 = nn.Conv2d(in_channels=20, out_channels=50, kernel_size=(5, 5))\n",
        "    self.relu2 = nn.ReLU()\n",
        "    self.pool2 = nn.MaxPool2d(kernel_size=(2, 2), stride=(2, 2))\n",
        "  \n",
        "    self.fc1 = nn.Linear(in_features=800, out_features=500)\n",
        "    self.relu3 = nn.ReLU()\n",
        "  \n",
        "    self.fc2 = nn.Linear(in_features=500, out_features=10)\n",
        "    self.logSoftmax = nn.LogSoftmax(dim=1)\n",
        "\n",
        "  def forward(self, x):\n",
        "    x = self.pool1(self.relu1(self.conv1(x)))\n",
        "    x = self.pool2(self.relu2(self.conv2(x)))\n",
        "    x = torch.flatten(x, 1)\n",
        "    x = self.relu3(self.fc1(x))\n",
        "    result = self.logSoftmax(self.fc2(x))\n",
        "    return result\n",
        "\n",
        "\n",
        "model = CNN()\n",
        "\n"
      ],
      "metadata": {
        "id": "FHg0TatQdeM7"
      },
      "execution_count": null,
      "outputs": []
    },
    {
      "cell_type": "code",
      "source": [
        "# train things\n",
        "\n",
        "\n",
        "lossfn = nn.NLLLoss()\n",
        "optimizer = torch.optim.SGD(model.parameters(), lr=0.01, momentum=0.9)\n",
        "\n",
        "%timeit\n",
        "model.train()\n",
        "running_loss = 0\n",
        "for epoch in range(2):\n",
        "\n",
        "  for i, batch in enumerate(loader_train):\n",
        "\n",
        "    x, y = batch\n",
        "    x, y = (x.to(device), y.to(device))\n",
        "\n",
        "    optimizer.zero_grad()\n",
        "\n",
        "    outputs = model(x)\n",
        "    loss = lossfn(outputs, y)\n",
        "    loss.backward()\n",
        "    optimizer.step()\n",
        "\n",
        "    running_loss += loss\n",
        "\n",
        "    if (i%200 == 0):\n",
        "      print(i, running_loss/200)\n",
        "      running_loss = 0\n",
        "\n"
      ],
      "metadata": {
        "colab": {
          "base_uri": "https://localhost:8080/"
        },
        "id": "A3zU1aSwIYR-",
        "outputId": "88121879-ca6f-4449-9d53-275ec2798fef"
      },
      "execution_count": null,
      "outputs": [
        {
          "output_type": "stream",
          "name": "stdout",
          "text": [
            "0 tensor(0.0115, grad_fn=<DivBackward0>)\n",
            "200 tensor(1.2412, grad_fn=<DivBackward0>)\n",
            "400 tensor(0.3931, grad_fn=<DivBackward0>)\n",
            "600 tensor(0.2453, grad_fn=<DivBackward0>)\n",
            "800 tensor(0.1951, grad_fn=<DivBackward0>)\n",
            "0 tensor(0.1158, grad_fn=<DivBackward0>)\n",
            "200 tensor(0.1488, grad_fn=<DivBackward0>)\n",
            "400 tensor(0.1245, grad_fn=<DivBackward0>)\n",
            "600 tensor(0.1002, grad_fn=<DivBackward0>)\n",
            "800 tensor(0.1004, grad_fn=<DivBackward0>)\n"
          ]
        }
      ]
    },
    {
      "cell_type": "code",
      "source": [
        "dataiter = iter(loader_test)\n",
        "images, labels = next(dataiter)\n",
        "\n",
        "correct = 0\n",
        "total = 0\n",
        "with torch.no_grad():\n",
        "    for data in loader_test:\n",
        "        images, labels = data\n",
        "        outputs = model(images)\n",
        "        _, predicted = torch.max(outputs.data, 1)\n",
        "        total += labels.size(0)\n",
        "        correct += (predicted == labels).sum().item()\n",
        "\n",
        "\n",
        "print(f'{100 * correct // total} %')"
      ],
      "metadata": {
        "colab": {
          "base_uri": "https://localhost:8080/"
        },
        "id": "QN0RYGnDnW32",
        "outputId": "0c9a3d32-37f8-41ab-f9fa-534185ba679f"
      },
      "execution_count": null,
      "outputs": [
        {
          "output_type": "stream",
          "name": "stdout",
          "text": [
            "91 %\n"
          ]
        }
      ]
    },
    {
      "cell_type": "code",
      "source": [],
      "metadata": {
        "id": "i-qWeA74o2Ea"
      },
      "execution_count": null,
      "outputs": []
    },
    {
      "cell_type": "markdown",
      "source": [
        "## Lenet"
      ],
      "metadata": {
        "id": "5aPK_tLdo2ih"
      }
    },
    {
      "cell_type": "code",
      "source": [
        "!pip install pyimagesearch"
      ],
      "metadata": {
        "colab": {
          "base_uri": "https://localhost:8080/"
        },
        "id": "VgTUVYUW79k6",
        "outputId": "249e5a42-f55e-4686-c607-600760df438c"
      },
      "execution_count": null,
      "outputs": [
        {
          "output_type": "stream",
          "name": "stdout",
          "text": [
            "Looking in indexes: https://pypi.org/simple, https://us-python.pkg.dev/colab-wheels/public/simple/\n",
            "\u001b[31mERROR: Could not find a version that satisfies the requirement pyimagesearch (from versions: none)\u001b[0m\u001b[31m\n",
            "\u001b[0m\u001b[31mERROR: No matching distribution found for pyimagesearch\u001b[0m\u001b[31m\n",
            "\u001b[0m"
          ]
        }
      ]
    },
    {
      "cell_type": "code",
      "source": [
        "from pyimagesearch.lenet import LeNet\n",
        "\n",
        "trainData = KMNIST(root=\"data\", train=True, download=True,\n",
        "\ttransform=ToTensor())\n",
        "testData = KMNIST(root=\"data\", train=False, download=True,\n",
        "\ttransform=ToTensor())\n"
      ],
      "metadata": {
        "colab": {
          "base_uri": "https://localhost:8080/",
          "height": 339
        },
        "id": "rbC180IEo3lH",
        "outputId": "739d6391-bff6-43a8-f4de-495a062de0f3"
      },
      "execution_count": null,
      "outputs": [
        {
          "output_type": "error",
          "ename": "ModuleNotFoundError",
          "evalue": "ignored",
          "traceback": [
            "\u001b[0;31m---------------------------------------------------------------------------\u001b[0m",
            "\u001b[0;31mModuleNotFoundError\u001b[0m                       Traceback (most recent call last)",
            "\u001b[0;32m<ipython-input-3-35a15e5a46cf>\u001b[0m in \u001b[0;36m<module>\u001b[0;34m\u001b[0m\n\u001b[0;32m----> 1\u001b[0;31m \u001b[0;32mfrom\u001b[0m \u001b[0mpyimagesearch\u001b[0m\u001b[0;34m.\u001b[0m\u001b[0mlenet\u001b[0m \u001b[0;32mimport\u001b[0m \u001b[0mLeNet\u001b[0m\u001b[0;34m\u001b[0m\u001b[0;34m\u001b[0m\u001b[0m\n\u001b[0m\u001b[1;32m      2\u001b[0m \u001b[0;34m\u001b[0m\u001b[0m\n\u001b[1;32m      3\u001b[0m \u001b[0;34m\u001b[0m\u001b[0m\n",
            "\u001b[0;31mModuleNotFoundError\u001b[0m: No module named 'pyimagesearch'",
            "",
            "\u001b[0;31m---------------------------------------------------------------------------\u001b[0;32m\nNOTE: If your import is failing due to a missing package, you can\nmanually install dependencies using either !pip or !apt.\n\nTo view examples of installing some common dependencies, click the\n\"Open Examples\" button below.\n\u001b[0;31m---------------------------------------------------------------------------\u001b[0m\n"
          ],
          "errorDetails": {
            "actions": [
              {
                "action": "open_url",
                "actionText": "Open Examples",
                "url": "/notebooks/snippets/importing_libraries.ipynb"
              }
            ]
          }
        }
      ]
    },
    {
      "cell_type": "code",
      "source": [
        "net.eval()\n",
        "\n",
        "import matplotlib.pyplot as plt\n",
        "\n",
        "dataiter = iter(loader_test)\n",
        "images, labels = next(dataiter)\n",
        "\n",
        "outputs = net(images)\n",
        "\n",
        "plt.imshow(images[0][0])\n",
        "labels[0], outputs[0]"
      ],
      "metadata": {
        "colab": {
          "base_uri": "https://localhost:8080/",
          "height": 317
        },
        "id": "X49bhn5HmJOR",
        "outputId": "a871b930-efac-442e-ffd4-13fcdb3d5597"
      },
      "execution_count": null,
      "outputs": [
        {
          "output_type": "execute_result",
          "data": {
            "text/plain": [
              "(tensor(2),\n",
              " tensor([-0.1035,  0.2049, -0.1048,  0.1518, -0.2468,  0.0553,  0.2121, -0.1158,\n",
              "         -0.1200, -0.0190], grad_fn=<SelectBackward0>))"
            ]
          },
          "metadata": {},
          "execution_count": 101
        },
        {
          "output_type": "display_data",
          "data": {
            "text/plain": [
              "<Figure size 432x288 with 1 Axes>"
            ],
            "image/png": "[encoded data removed]"
          },
          "metadata": {
            "needs_background": "light"
          }
        }
      ]
    },
    {
      "cell_type": "markdown",
      "source": [
        "https://www.kaggle.com/competitions/imagenet-object-localization-challenge/data\n",
        "\n",
        "dataset\n",
        "https://www.image-net.org/challenges/LSVRC/2017/index.php#\n",
        "\n",
        "Google CNN\n",
        "https://static.googleusercontent.com/media/research.google.com/en//pubs/archive/43022.pdf\n",
        "\n",
        "\n",
        "https://towardsdatascience.com/topological-data-analysis-tda-b7f9b770c951\n",
        "\n",
        "\n",
        "Stanford\n",
        "https://www.youtube.com/watch?v=bNb2fEVKeEo&list=PL3FW7Lu3i5JvHM8ljYj-zLfQRF3EO8sYv&index=5"
      ],
      "metadata": {
        "id": "lstTMzO9elEl"
      }
    },
    {
      "cell_type": "code",
      "source": [],
      "metadata": {
        "id": "IweVTBVAe2CL"
      },
      "execution_count": null,
      "outputs": []
    }
  ]
}